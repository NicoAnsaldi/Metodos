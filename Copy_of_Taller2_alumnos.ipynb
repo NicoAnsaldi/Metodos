{
  "nbformat": 4,
  "nbformat_minor": 0,
  "metadata": {
    "colab": {
      "name": "Copy of Taller2_alumnos.ipynb",
      "version": "0.3.2",
      "provenance": [],
      "collapsed_sections": []
    },
    "kernelspec": {
      "display_name": "Python 3",
      "language": "python",
      "name": "python3"
    }
  },
  "cells": [
    {
      "cell_type": "markdown",
      "metadata": {
        "id": "RN7rLwdGEoO3",
        "colab_type": "text"
      },
      "source": [
        "Taller 2\n",
        "======\n",
        "\n",
        "Cuadrados minimos\n",
        "------\n",
        "\n",
        "El objetivo del taller es ganar un entendimiento más profundo de los temas que entran en el segundo parcial.\n",
        "Por tal motivo, se deben resolver los siguientes ejercicios y responder las preguntas justificando adecuadamente.\n"
      ]
    },
    {
      "cell_type": "markdown",
      "metadata": {
        "id": "gsANZ7OREoO6",
        "colab_type": "text"
      },
      "source": [
        "## Ejercicio 1\n",
        "Dada la siguiente matriz\n",
        "$$\n",
        "A =\n",
        "\\begin{pmatrix}\n",
        "\t1 & \\sqrt{3} & 0 \\\\\n",
        "\t\\sqrt{3} & 4 & \\sqrt{3}/2 \\\\\n",
        "\t0 & \\sqrt{3}/2 & 7/4\n",
        "\\end{pmatrix}\n",
        "$$\n",
        "\n",
        "Hallar $A = U \\Sigma V^t$ la descomposición en valores singulares de $A$ utilizando únicamente la función `eig` de Numpy para calcular los autovalores y autovectores necesarios.\n"
      ]
    },
    {
      "cell_type": "code",
      "metadata": {
        "id": "W9MQ-9WTEoO7",
        "colab_type": "code",
        "colab": {
          "base_uri": "https://localhost:8080/",
          "height": 69
        },
        "outputId": "02bb721f-bd25-4ac8-e720-f6d49f0d9558"
      },
      "source": [
        "import numpy as np\n",
        "from numpy.linalg import eig\n",
        "\n",
        "A = np.array([[1,          np.sqrt(3),   0           ],\n",
        "              [np.sqrt(3), 4,            np.sqrt(3)/2],\n",
        "              [0,          np.sqrt(3)/2, 7/4         ]])\n",
        "\n",
        "S,c = eig(A)\n",
        "B,U = eig(A@A.transpose())\n",
        "B,V = eig(A.transpose()@A)\n",
        "\n",
        "D = np.asmatrix(np.diag(S))\n",
        "\n",
        "print(U@D@V.transpose())\n"
      ],
      "execution_count": 2,
      "outputs": [
        {
          "output_type": "stream",
          "text": [
            "[[1.00000000e+00 1.73205081e+00 8.88178420e-16]\n",
            " [1.73205081e+00 4.00000000e+00 8.66025404e-01]\n",
            " [8.88178420e-16 8.66025404e-01 1.75000000e+00]]\n"
          ],
          "name": "stdout"
        }
      ]
    },
    {
      "cell_type": "markdown",
      "metadata": {
        "id": "qiT3sCqzEoO_",
        "colab_type": "text"
      },
      "source": [
        "## Ejercicio 2\n",
        "\n",
        "Dado el siguiente sistema lineal sobredeterminado:\n",
        "$$\n",
        "\\begin{pmatrix}\n",
        "1  & 0  & 0 \\\\\n",
        "0  & 1  & 0 \\\\\n",
        "0  & 0  & 1 \\\\\n",
        "-1 & 1  & 0 \\\\\n",
        "0  & -1 & 0 \\\\\n",
        "-1 & 0  & 1\n",
        "\\end{pmatrix}\n",
        "%\n",
        "\\begin{pmatrix}\n",
        "x_a \\\\\n",
        "x_b \\\\\n",
        "x_c\n",
        "\\end{pmatrix}\n",
        "=\n",
        "\\begin{pmatrix}\n",
        "1 \\\\ \n",
        "2 \\\\ \n",
        "3 \\\\\n",
        "1 \\\\\n",
        "2 \\\\\n",
        "1\n",
        "\\end{pmatrix}\n",
        "$$\n",
        "Resolver mediante cuadrados mínimos (utilizando ecuaciones normales). \n",
        "\n",
        "- Verificar que el residuo es ortogonal a las columnas de la matriz A. ¿A qué subespacio pertenece el residuo?\n",
        "\n",
        "- ¿Cómo se relaciona el punto anterior con las ecuaciones normales? Justificar\n"
      ]
    },
    {
      "cell_type": "code",
      "metadata": {
        "id": "voBRskqYEoPA",
        "colab_type": "code",
        "colab": {
          "base_uri": "https://localhost:8080/",
          "height": 271
        },
        "outputId": "aeaf70bc-57b5-441a-e0a3-d4a4e41c9a5b"
      },
      "source": [
        "A = np.array([[1, 0, 0],\n",
        "              [0, 1, 0],\n",
        "              [0, 0, 1],\n",
        "              [-1,1, 0],\n",
        "              [0,-1, 0],\n",
        "              [-1,0, 1]])\n",
        "\n",
        "b = np.array([1, 2, 3, 1, 2, 1])\n",
        "\n",
        "#Idea Ax -b = 0 => At(Ax-b) = 0\n",
        "\n",
        "At = A.transpose()\n",
        "c = np.linalg.solve((At@A), (At@b))\n",
        "print(c)\n",
        "\n",
        "r = A@c - b\n",
        "print(r)\n",
        "print(r.shape)\n",
        "r = np.reshape(r,(-1,1))\n",
        "for i in range(A.shape[1]):\n",
        "  if(np.inner(A[:,i],r) != 0):\n",
        "    print(A[:,i])"
      ],
      "execution_count": 13,
      "outputs": [
        {
          "output_type": "stream",
          "text": [
            "[0.61538462 0.53846154 2.30769231]\n",
            "[-0.38461538 -1.46153846 -0.69230769 -1.07692308 -2.53846154  0.69230769]\n",
            "(6,)\n"
          ],
          "name": "stdout"
        },
        {
          "output_type": "error",
          "ename": "ValueError",
          "evalue": "ignored",
          "traceback": [
            "\u001b[0;31m---------------------------------------------------------------------------\u001b[0m",
            "\u001b[0;31mValueError\u001b[0m                                Traceback (most recent call last)",
            "\u001b[0;32m<ipython-input-13-ee087a3364fb>\u001b[0m in \u001b[0;36m<module>\u001b[0;34m()\u001b[0m\n\u001b[1;32m     19\u001b[0m \u001b[0mr\u001b[0m \u001b[0;34m=\u001b[0m \u001b[0mnp\u001b[0m\u001b[0;34m.\u001b[0m\u001b[0mreshape\u001b[0m\u001b[0;34m(\u001b[0m\u001b[0mr\u001b[0m\u001b[0;34m,\u001b[0m\u001b[0;34m(\u001b[0m\u001b[0;34m-\u001b[0m\u001b[0;36m1\u001b[0m\u001b[0;34m,\u001b[0m\u001b[0;36m1\u001b[0m\u001b[0;34m)\u001b[0m\u001b[0;34m)\u001b[0m\u001b[0;34m\u001b[0m\u001b[0;34m\u001b[0m\u001b[0m\n\u001b[1;32m     20\u001b[0m \u001b[0;32mfor\u001b[0m \u001b[0mi\u001b[0m \u001b[0;32min\u001b[0m \u001b[0mrange\u001b[0m\u001b[0;34m(\u001b[0m\u001b[0mA\u001b[0m\u001b[0;34m.\u001b[0m\u001b[0mshape\u001b[0m\u001b[0;34m[\u001b[0m\u001b[0;36m1\u001b[0m\u001b[0;34m]\u001b[0m\u001b[0;34m)\u001b[0m\u001b[0;34m:\u001b[0m\u001b[0;34m\u001b[0m\u001b[0;34m\u001b[0m\u001b[0m\n\u001b[0;32m---> 21\u001b[0;31m   \u001b[0;32mif\u001b[0m\u001b[0;34m(\u001b[0m\u001b[0mnp\u001b[0m\u001b[0;34m.\u001b[0m\u001b[0minner\u001b[0m\u001b[0;34m(\u001b[0m\u001b[0mA\u001b[0m\u001b[0;34m[\u001b[0m\u001b[0;34m:\u001b[0m\u001b[0;34m,\u001b[0m\u001b[0mi\u001b[0m\u001b[0;34m]\u001b[0m\u001b[0;34m,\u001b[0m\u001b[0mr\u001b[0m\u001b[0;34m)\u001b[0m \u001b[0;34m!=\u001b[0m \u001b[0;36m0\u001b[0m\u001b[0;34m)\u001b[0m\u001b[0;34m:\u001b[0m\u001b[0;34m\u001b[0m\u001b[0;34m\u001b[0m\u001b[0m\n\u001b[0m\u001b[1;32m     22\u001b[0m     \u001b[0mprint\u001b[0m\u001b[0;34m(\u001b[0m\u001b[0mA\u001b[0m\u001b[0;34m[\u001b[0m\u001b[0;34m:\u001b[0m\u001b[0;34m,\u001b[0m\u001b[0mi\u001b[0m\u001b[0;34m]\u001b[0m\u001b[0;34m)\u001b[0m\u001b[0;34m\u001b[0m\u001b[0;34m\u001b[0m\u001b[0m\n",
            "\u001b[0;31mValueError\u001b[0m: shapes (6,) and (1,6) not aligned: 6 (dim 0) != 1 (dim 0)"
          ]
        }
      ]
    },
    {
      "cell_type": "markdown",
      "metadata": {
        "id": "uvFxHJ0xEoPE",
        "colab_type": "text"
      },
      "source": [
        "## Ejercicio 3\n",
        "\n",
        "Completar los métodos de Jacobi y Gauss-Seidel  para resolver las ecuaciones normales de cuadrados mínimos mediante los mencionados métodos iterativos. \n",
        "\n",
        "Realizar lo siguiente:\n",
        "- Explicar el problema: ¿Cómo son los datos? ¿Cómo los queremos aproximar?\n",
        "- Probar distintos valores de cantidad de iteraciones e inicialización del vector solución. \n",
        "- Graficar los errores y la función aproximada por cuadrados mínimos.\n",
        "- ¿Qué puede decir sobre los valores estimados de los coeficientes de mayor grado?\n"
      ]
    },
    {
      "cell_type": "code",
      "metadata": {
        "id": "g7IEkxlgEoPF",
        "colab_type": "code",
        "outputId": "93440151-5eee-42df-f50a-aeb0c6c7af10",
        "colab": {
          "base_uri": "https://localhost:8080/",
          "height": 363
        }
      },
      "source": [
        "import numpy as np\n",
        "import matplotlib.pyplot as plt\n",
        "\n",
        "# Datos: polinomio de grado 2 (con ruido).\n",
        "t = np.arange(1, 40, 0.1)\n",
        "y = 1/2 * t ** 2 + 4 * t + 15\n",
        "y = y + np.random.randn(*t.shape) * 10  # Agrego ruido\n",
        "\n",
        "plt.plot(t, y, '.')\n",
        "plt.title('Datos a ajustar')\n",
        "plt.show()"
      ],
      "execution_count": 0,
      "outputs": [
        {
          "output_type": "display_data",
          "data": {
            "image/png": "[encoded data removed]",
            "text/plain": [
              "<matplotlib.figure.Figure at 0x7f0ebd4e1748>"
            ]
          },
          "metadata": {
            "tags": []
          }
        }
      ]
    },
    {
      "cell_type": "code",
      "metadata": {
        "id": "itBREaMGEoPL",
        "colab_type": "code",
        "colab": {}
      },
      "source": [
        "# Ecuaciones normales de cuadrados minimos\n",
        "# Vamos a fitear por un polinomio de grado 4\n",
        "\n",
        "A = np.stack([np.ones(t.shape), t, t ** 2, t ** 3, t ** 4]).T\n",
        "b = y\n",
        "\n",
        "AtA = A.T @ A  # @ es una abreviacion de `np.matmul`\n",
        "Atb = A.T @ b\n",
        "\n",
        "correct_ans = np.linalg.solve(AtA, Atb)\n",
        "\n",
        "np.set_printoptions(suppress=True)  # elimino notacion cientifica\n",
        "print(correct_ans)"
      ],
      "execution_count": 0,
      "outputs": []
    },
    {
      "cell_type": "code",
      "metadata": {
        "id": "b5c3UoSwEoPO",
        "colab_type": "code",
        "colab": {}
      },
      "source": [
        "# Matrices para los metodos iterativos\n",
        "D = np.diag(np.diag(AtA))\n",
        "L = -np.tril(AtA, -1)\n",
        "U = -np.triu(AtA, 1)"
      ],
      "execution_count": 0,
      "outputs": []
    },
    {
      "cell_type": "code",
      "metadata": {
        "id": "0jf5oTMkEoPR",
        "colab_type": "code",
        "colab": {}
      },
      "source": [
        "# Jacobi\n",
        "T = _\n",
        "c = _\n",
        "reps = 20\n",
        "xi = _\n",
        "error = []\n",
        "for i in range(reps):\n",
        "    xi = _\n",
        "    error.append(np.linalg.norm(xi - correct_ans))\n",
        "\n",
        "print(\"Jacobi:\")\n",
        "print(\"Estimacion:\", xi)\n",
        "print(\"Respuesta correcta\", correct_ans)\n",
        "\n",
        "plt.plot(error)\n",
        "plt.title(\"Error de Jacobi\")\n",
        "plt.xlabel(\"Iteracion\")\n",
        "plt.ylabel(\"error\")\n",
        "plt.yscale('log')\n",
        "plt.show()"
      ],
      "execution_count": 0,
      "outputs": []
    },
    {
      "cell_type": "code",
      "metadata": {
        "id": "z3YpCmR3EoPW",
        "colab_type": "code",
        "colab": {}
      },
      "source": [
        "# Gauss-Seidel\n",
        "T = _\n",
        "c = _\n",
        "reps = 100000;\n",
        "xi = _\n",
        "error = []\n",
        "for i in range(reps):\n",
        "    xi = _\n",
        "    error.append(np.linalg.norm(xi - correct_ans))\n",
        "\n",
        "print(\"Gauss-Seidel:\")\n",
        "print(\"Estimacion:\", xi)\n",
        "print(\"Respuesta correcta\", correct_ans)\n",
        "\n",
        "plt.plot(error)\n",
        "plt.title(\"Error de Gauss-Seidel\")\n",
        "plt.xlabel(\"Iteracion\")\n",
        "plt.ylabel(\"Error\")\n",
        "plt.show()\n"
      ],
      "execution_count": 0,
      "outputs": []
    },
    {
      "cell_type": "code",
      "metadata": {
        "id": "jr-c6RGdEoPa",
        "colab_type": "code",
        "colab": {}
      },
      "source": [
        "plt.plot(y, '.')\n",
        "pred = xi[0] * t + xi[1] * t**2 + xi[2] * t**3 + xi[3] * t**4\n",
        "plt.plot(pred, 'r')\n",
        "plt.title(\"Polinomio ajustado\")\n",
        "plt.xlabel(\"t\")\n",
        "plt.ylabel(\"y\")\n",
        "plt.show()"
      ],
      "execution_count": 0,
      "outputs": []
    },
    {
      "cell_type": "markdown",
      "metadata": {
        "id": "y3YH1FDHEoPf",
        "colab_type": "text"
      },
      "source": [
        "## Ejercicio 4\n",
        "\n",
        "Para el punto anterior, indicar si los métodos convergen o no y por qué. ¿Qué propiedades pueden aplicar para explicar la convergencia (o falta de ella) para cada método?\n",
        "Justificar adecuadamente."
      ]
    },
    {
      "cell_type": "markdown",
      "metadata": {
        "id": "erq_9npREoPg",
        "colab_type": "text"
      },
      "source": [
        "**Respuesta**:"
      ]
    },
    {
      "cell_type": "markdown",
      "metadata": {
        "id": "Q-LvIGa-EoPh",
        "colab_type": "text"
      },
      "source": [
        "## Evaluación y entrega\n",
        "\n",
        "- La evaluación será mediante un coloquio con los docentes durante la clase.\n",
        "- El taller se realiza en grupos. Se recomienda que sean los mismos de los TPs.\n",
        "- En caso de no asistir a clase, se debe entregar la resolución del taller por mail a metnum.lab@gmail.com hasta el día **Viernes 9 de Noviembre de 2018** justificando todas las respuestas.\n"
      ]
    }
  ]
}