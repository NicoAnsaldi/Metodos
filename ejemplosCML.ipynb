{
 "cells": [
  {
   "cell_type": "code",
   "execution_count": 11,
   "metadata": {},
   "outputs": [],
   "source": [
    "import numpy as np                   # Para cosas de álgebra lineal\n",
    "import matplotlib.pyplot as plt      # Para gráficos\n",
    "# %matplotlib inline\n",
    "\n"
   ]
  },
  {
   "cell_type": "markdown",
   "metadata": {},
   "source": [
    "# Precalentamiento con ejs. de la práctica 8\n",
    "\n",
    "Repaso CML: https://campus.exactas.uba.ar/mod/resource/view.php?id=82930"
   ]
  },
  {
   "cell_type": "markdown",
   "metadata": {},
   "source": [
    "## Ej 12.\n",
    "\n",
    "La recta $f(x)=a + b x$ debe ajustarse a los siguientes datos:\n",
    "\n",
    "  xi = [-2 , -1 , 0 , 1 , 2]\n",
    "  \n",
    "  yi = [ 0.5 , 0.5 , 2 , 3.5 , 3.5]\n",
    "\n",
    "Determinar $a$ y $b$ de modo que $\\sum_{i=1}^{5}(f(x_{i})-y_{i})^{2}$\n",
    "sea mínima."
   ]
  },
  {
   "cell_type": "code",
   "execution_count": 29,
   "metadata": {},
   "outputs": [
    {
     "data": {
      "text/plain": [
       "[<matplotlib.lines.Line2D at 0x7f7524013410>]"
      ]
     },
     "execution_count": 29,
     "metadata": {},
     "output_type": "execute_result"
    },
    {
     "data": {
      "image/png": "[encoded data removed]",
      "text/plain": [
       "<matplotlib.figure.Figure at 0x7f7524013950>"
      ]
     },
     "metadata": {
      "needs_background": "light"
     },
     "output_type": "display_data"
    }
   ],
   "source": [
    "xi = np.array([-2 , -1 , 0 , 1 , 2], dtype=float)\n",
    "yi = np.array([ 0.5 , 0.5 , 2 , 3.5 , 3.5], dtype=float)\n",
    "\n",
    "\n",
    "plt.plot(xi,yi,'bo')\n",
    "\n",
    "# crear matriz A\n",
    "\n",
    "AT = np.array([[1, 1, 1, 1, 1], xi])\n",
    "A = np.transpose(AT)\n",
    "\n",
    "AtA = np.asmatrix(AT)*np.asmatrix(A)\n",
    "\n",
    "yi = np.reshape(yi,(-1,1))\n",
    "\n",
    "Atb = np.asmatrix(AT)*yi\n",
    "\n",
    "\n",
    "a,b = np.linalg.solve(AtA, Atb)\n",
    "\n",
    "\n",
    "def func(x,a,b):\n",
    "    y = a + x*b\n",
    "    return y\n",
    "\n",
    "\n",
    "xs = np.arange(-2.5,2.5,0.1)\n",
    "ys = np.zeros(xs.size)\n",
    "for i,x in enumerate(xs):\n",
    "    y = func(x,a,b)\n",
    "    ys[i] = y\n",
    "    \n",
    "\n",
    "plt.plot(xs,ys,'r.')\n"
   ]
  },
  {
   "cell_type": "markdown",
   "metadata": {},
   "source": [
    "## Ej 13\n",
    "Encontrar los polinomios de cuadrados mínimos de grados 1,\n",
    "2, 3 y 4 para los datos de la siguiente tabla:\n",
    "\n",
    "  xi = [0 , 0.15 , 0.31 , 0.5 , 0.6 , 0.75] \n",
    "  \n",
    "  yi = [1.0 , 1.004 , 1.031 , 1.117 , 1.223 , 1.422]\n",
    "\n",
    "Con cuál grado se obtiene la mejor aproximación de\n",
    "cuadrados mínimos (es decir, la de menor error)?\n",
    "\n"
   ]
  },
  {
   "cell_type": "code",
   "execution_count": 34,
   "metadata": {},
   "outputs": [
    {
     "data": {
      "text/plain": [
       "[<matplotlib.lines.Line2D at 0x7f7524374c50>]"
      ]
     },
     "execution_count": 34,
     "metadata": {},
     "output_type": "execute_result"
    },
    {
     "data": {
      "image/png": "[encoded data removed]",
      "text/plain": [
       "<matplotlib.figure.Figure at 0x7f7524374c10>"
      ]
     },
     "metadata": {
      "needs_background": "light"
     },
     "output_type": "display_data"
    }
   ],
   "source": [
    "xi = np.array([0 , 0.15 , 0.31 , 0.5 , 0.6 , 0.75])\n",
    "yi = np.array([1.0 , 1.004 , 1.031 , 1.117 , 1.223 , 1.422])\n",
    "\n",
    "\n",
    "plt.plot(xi,yi,'bo')\n",
    "\n",
    "# Crer matriz A\n",
    "\n",
    "c0 = np.ones(xi.size)\n",
    "c1 = xi\n",
    "c2 = xi**2\n",
    "c3 = xi**3\n",
    "c4 = xi**4\n",
    "\n",
    "A = np.stack([c0,c1,c2,c3,c4],axis=-1)\n",
    "\n",
    "AtA = np.asmatrix(A.T)*np.asmatrix(A)\n",
    "\n",
    "yi = np.reshape(yi,(-1,1))\n",
    "\n",
    "Atb = np.asmatrix(A.T)*yi\n",
    "\n",
    "\n",
    "a,b,c,d,e = np.linalg.solve(AtA, Atb)\n",
    "\n",
    "def func(x,a,b,c,d,e):\n",
    "    y = a + x*b + (x**2)*c + (x**3)*d + (x**4)*e\n",
    "    return y\n",
    "\n",
    "\n",
    "xs = np.arange(0,1,0.01)\n",
    "ys = np.zeros(xs.size)\n",
    "\n",
    "for i,x in enumerate(xs):\n",
    "    ys[i] = func(x,a,b,c,d,e)\n",
    "\n",
    "plt.plot(xs,ys,'r.')"
   ]
  },
  {
   "cell_type": "code",
   "execution_count": null,
   "metadata": {},
   "outputs": [],
   "source": []
  }
 ],
 "metadata": {
  "kernelspec": {
   "display_name": "Python 3",
   "language": "python",
   "name": "python3"
  },
  "language_info": {
   "codemirror_mode": {
    "name": "ipython",
    "version": 2
   },
   "file_extension": ".py",
   "mimetype": "text/x-python",
   "name": "python",
   "nbconvert_exporter": "python",
   "pygments_lexer": "ipython2",
   "version": "2.7.15rc1"
  }
 },
 "nbformat": 4,
 "nbformat_minor": 2
}
