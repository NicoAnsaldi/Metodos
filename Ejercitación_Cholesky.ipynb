{
 "cells": [
  {
   "cell_type": "code",
   "execution_count": 36,
   "metadata": {
    "colab": {
     "base_uri": "https://localhost:8080/",
     "height": 86
    },
    "colab_type": "code",
    "id": "0pkG9exacSbj",
    "outputId": "01aebe46-2987-4dc0-9ff8-9445e858adbc"
   },
   "outputs": [
    {
     "name": "stdout",
     "output_type": "stream",
     "text": [
      "True\n"
     ]
    },
    {
     "data": {
      "text/plain": [
       "True"
      ]
     },
     "execution_count": 36,
     "metadata": {},
     "output_type": "execute_result"
    }
   ],
   "source": [
    "import numpy as np\n",
    "import math \n",
    "from numpy.linalg import *\n",
    "\n",
    "\n",
    "def CholFromBlocks(A):\n",
    "    # Inicializo L con ceros y Achol como auxiliar\n",
    "    L = np.asmatrix(np.zeros((A.shape[0],A.shape[1]), float))\n",
    "    Achol = A\n",
    "    N = A.shape[0]\n",
    "    \n",
    "    for j in range(0,N):\n",
    "        L.itemset(j,j, math.sqrt(A.item(j,j) - L.item(j,j)))\n",
    "        for i in range(j+1,N):\n",
    "            L.itemset(i,j,(A.item(i,j)-L.item(i,j))/L.item(j,j))\n",
    "            for k in range(j+1,i+1):\n",
    "                L.itemset(i,k, (L.item(i,j)*L.item(k,j)) + L.item(i,k))\n",
    "    # Calculo todos los subbloques de L\n",
    "    # COMPLETAR\n",
    "      \n",
    "    return L\n",
    "      \n",
    "#Codigo para chequar que dio bien\n",
    "def validate(L,A):    \n",
    "    Acholesky = L*L.T;\n",
    "    for i  in range(0,A.shape[0]):\n",
    "        for j  in range(0,A.shape[1]):\n",
    "            if (abs(A[i,j]-Acholesky[i,j]) >0.01):\n",
    "              print('no iguales!')\n",
    "              return False\n",
    "            \n",
    "    return True\n",
    "\n",
    "  \n",
    "\n",
    "  \n",
    "#2) Cholesky\n",
    "#Completar la función que calcula la factorización de cholesky.\n",
    "# Recibe una matriz A y debe devolver una nueva matriz con la L de cholesky.\n",
    "#Debe chequear que la matriz sea cuadrada, simétrica, y luego\n",
    "#durante el algoritmo agregar los chequeos necesarios donde haga falta.\n",
    "#En cualquier caso que falle, debe lanzar una excepción con el mensaje\n",
    "#\"Matriz no SDP.\"\n",
    "\n",
    "def cholesky(A):\n",
    "    if (not esSimetrica(A)):\n",
    "        print(\"Matriz no SDP.\")\n",
    "    N = A.shape[0];\n",
    "    L = np.asmatrix(np.zeros((A.shape[0],A.shape[1]), float))\n",
    "\n",
    "    for j in range(0,N):\n",
    "        acum = 0\n",
    "        for z in range (0,j):\n",
    "            acum = acum + L.item(j,z)**2\n",
    "        L.itemset(j,j, math.sqrt(A.item(j,j) - acum))\n",
    "        for i in range(j+1, N):\n",
    "            acum = 0\n",
    "            for k in range(0,j):\n",
    "                acum = acum + (L.item(i,k)*L.item(j,k))\n",
    "            L.itemset(i,j, 1./L.item(j,j)*(A.item(i,j) - acum))\n",
    "    return L;\n",
    "\n",
    "def esSimetrica(A):\n",
    "    N = A.shape[0]\n",
    "    for i in range(0,N):\n",
    "        for j in range(0,N):\n",
    "            if (A.item(i,j) != A.item(j,i)):\n",
    "                return False\n",
    "    return True\n",
    "\n",
    "\n",
    "#Ejemplo para comparar con Numpy:\n",
    "A = np.matrix([[8,2],[2,4]], float)\n",
    "L = cholesky(A)\n",
    "print(validate(L,A))\n",
    "\n",
    "#Tests  \n",
    "#Esta matriz debería ser sdp\n",
    "\n",
    "A = np.matrix([[4,-1,1], [-1, 4.25, 2.75],[1,2.75,3.5]],float)\n",
    "A_ = np.matrix(A)\n",
    "validate(CholFromBlocks(A),A_)\n"
   ]
  },
  {
   "cell_type": "code",
   "execution_count": null,
   "metadata": {},
   "outputs": [],
   "source": []
  },
  {
   "cell_type": "code",
   "execution_count": null,
   "metadata": {},
   "outputs": [],
   "source": []
  }
 ],
 "metadata": {
  "colab": {
   "collapsed_sections": [],
   "name": "Ejercitación Cholesky.ipynb",
   "provenance": [],
   "version": "0.3.2"
  },
  "kernelspec": {
   "display_name": "Python 3",
   "language": "python",
   "name": "python3"
  },
  "language_info": {
   "codemirror_mode": {
    "name": "ipython",
    "version": 3
   },
   "file_extension": ".py",
   "mimetype": "text/x-python",
   "name": "python",
   "nbconvert_exporter": "python",
   "pygments_lexer": "ipython3",
   "version": "3.7.3"
  }
 },
 "nbformat": 4,
 "nbformat_minor": 1
}
