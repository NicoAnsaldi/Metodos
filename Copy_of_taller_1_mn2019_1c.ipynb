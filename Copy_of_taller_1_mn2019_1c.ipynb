{
 "cells": [
  {
   "cell_type": "markdown",
   "metadata": {
    "colab_type": "text",
    "id": "view-in-github"
   },
   "source": [
    "<a href=\"https://colab.research.google.com/github/NicoAnsaldi/Metodos/blob/master/Copy_of_taller_1_mn2019_1c.ipynb\" target=\"_parent\"><img src=\"https://colab.research.google.com/assets/colab-badge.svg\" alt=\"Open In Colab\"/></a>"
   ]
  },
  {
   "cell_type": "markdown",
   "metadata": {
    "colab_type": "text",
    "id": "sONEnxwl3tCn"
   },
   "source": [
    "# Taller 1 - Métodos Numéricos\n",
    "## 2019 - 1er cuatrimestre\n",
    "### Objetivo y evaluación\n",
    "\n",
    "El objetivo del trabajo es completar los siguientes puntos relacionados con los temas de factorización LU, de Cholesky y matrices ortogonales.\n",
    "\n",
    "#### Evaluación:\n",
    "- Coloquio con los docentes durante la clase (preguntas sobre el enunciado y el código). Justificar las respuestas\n",
    "- En caso de no asistir a clase o no terminar a tiempo, se debe entregar la resolución del taller con las respuestas justificadas por *escrito* hasta el viernes 19 de abril a [metnum.lab@gmail.com](metnum.lab)\n",
    "- Implementar cada uno de los siguientes ejercicios, haciendo que corran los respectivos tests.\n"
   ]
  },
  {
   "cell_type": "code",
   "execution_count": 1,
   "metadata": {
    "colab": {},
    "colab_type": "code",
    "id": "-Dx9XgCg33We"
   },
   "outputs": [],
   "source": [
    "#Código para que corran los tests: (pueden ignorarlo, pero ejecútenlo al principio de todo)\n",
    "\n",
    "\n",
    "import numpy as np\n",
    "import math\n",
    "import traceback\n",
    "\n",
    "\n",
    "def mntest(func):\n",
    "    global tests\n",
    "    \n",
    "    tests.append(func)    \n",
    "    \n",
    "    return func\n",
    "\n",
    "def correr_tests():\n",
    "    excepciones = []\n",
    "    for test in tests:\n",
    "        try:\n",
    "            print(\"Corriendo {} ... \".format(test.__name__), end='')\n",
    "            test()\n",
    "            print(\"OK\")\n",
    "        except AssertionError as e:\n",
    "            error_msg = traceback.format_exc()\n",
    "            excepciones.append((test, error_msg))\n",
    "            print(\"ERROR\")\n",
    "    \n",
    "    if len(excepciones) > 0:\n",
    "        print(\"\\nErrores:\\n\")\n",
    "        for (test, error_msg) in excepciones:\n",
    "            print(\"En {}\".format(test.__name__))\n",
    "            print(error_msg)\n",
    "    else:\n",
    "        print(\"Todos los tests pasaron correctamente\")\n",
    "\n"
   ]
  },
  {
   "cell_type": "markdown",
   "metadata": {
    "colab_type": "text",
    "id": "5cwOyicj4Qde"
   },
   "source": [
    "## Ejercicio 1\n",
    "\n",
    "Repasar la definición de factorización LU. ¿Bajo qué condiciones podemos garantizar\n",
    "que una matriz inversible tiene factorización LU? \n",
    "\n",
    "Completar la función `tiene_lu` que dada una matriz A, nos devuelve `True` si tiene factorización LU, o `False` en caso contrario.\n",
    "\n",
    "**Tip**: considerar las funciones `shape` para obtener las dimensiones de una matriz, y `np.linalg.det` para obtener el determinante de una matriz.\n"
   ]
  },
  {
   "cell_type": "code",
   "execution_count": 32,
   "metadata": {
    "colab": {},
    "colab_type": "code",
    "id": "rZg8seXD4rxl"
   },
   "outputs": [],
   "source": [
    "eps = 1e-6\n",
    "\n",
    "def tiene_lu(A):\n",
    "    N = A.shape[0]\n",
    "    for j in range(0, N):\n",
    "        if (np.linalg.det(A[0:j, 0:j]) == 0):\n",
    "            return False\n",
    "    return True\n",
    "    \n",
    "    \"\"\"\n",
    "    Dada una matriz A, devuelve True si tiene descomposición LU, o False en caso contrario\n",
    "    \n",
    "    Argumentos:\n",
    "    -----------\n",
    "    \n",
    "    A: np.array\n",
    "        Matriz de floats\n",
    "\n",
    "    Devuelve:\n",
    "    ---------\n",
    "    \n",
    "    res: bool\n",
    "        True si tiene LU, False caso contrario\n",
    "    \"\"\"\n",
    "    pass\n",
    "    "
   ]
  },
  {
   "cell_type": "code",
   "execution_count": 33,
   "metadata": {
    "colab": {
     "base_uri": "https://localhost:8080/",
     "height": 104
    },
    "colab_type": "code",
    "id": "12Oys5U844hh",
    "outputId": "b35b4067-f843-43eb-8d24-5730daf3c55e"
   },
   "outputs": [
    {
     "name": "stdout",
     "output_type": "stream",
     "text": [
      "Corriendo testear_identidad_tiene_LU ... OK\n",
      "Corriendo testear_matriz_ceros_no_tiene_LU ... OK\n",
      "Corriendo testear_matriz_no_inversible ... OK\n",
      "Corriendo testear_matriz_permutacion_no_tiene_LU ... OK\n",
      "Todos los tests pasaron correctamente\n"
     ]
    }
   ],
   "source": [
    "tests = []\n",
    "\n",
    "\n",
    "@mntest\n",
    "def testear_identidad_tiene_LU():\n",
    "    A = np.identity(3)\n",
    "        \n",
    "    assert(tiene_lu(A))\n",
    "    \n",
    "\n",
    "@mntest\n",
    "def testear_matriz_ceros_no_tiene_LU():\n",
    "    A = np.zeros((3, 3))\n",
    "        \n",
    "    assert(not tiene_lu(A))\n",
    "    \n",
    "@mntest\n",
    "def testear_matriz_no_inversible():\n",
    "    A = np.ones((3, 3))\n",
    "    \n",
    "    assert(not tiene_lu(A))\n",
    "\n",
    "@mntest \n",
    "def testear_matriz_permutacion_no_tiene_LU():\n",
    "    A = np.array([\n",
    "        [1, 0, 0],\n",
    "        [0, 0, 1],\n",
    "        [0, 1, 0]\n",
    "    ])\n",
    "    \n",
    "    assert(not tiene_lu(A))\n",
    "\n",
    "\n",
    "correr_tests()"
   ]
  },
  {
   "cell_type": "markdown",
   "metadata": {
    "colab_type": "text",
    "id": "moIHiYAB49x9"
   },
   "source": [
    "## Ejercicio 2\n",
    "\n",
    "Calcular LU en bloques para que tome una matrix $A \\in \\mathbb{R}^{n \\times n}$ y nos devuelva $L$ y $U$, su descomposición correspondiente\n",
    "\n",
    "**Hint**: ojo con la dimensión de los vectores. Si queremos multiplicar una matriz \"columna\", con una matriz \"fila\" tenemos que hacer reshape primero."
   ]
  },
  {
   "cell_type": "code",
   "execution_count": 34,
   "metadata": {
    "colab": {},
    "colab_type": "code",
    "id": "wGMwVUIE5F87"
   },
   "outputs": [],
   "source": [
    "def lu_en_bloques(A):\n",
    "    \"\"\"\n",
    "    Dada una matriz A, devuelve L, U \n",
    "    \n",
    "    Argumentos:\n",
    "    -----------\n",
    "    \n",
    "    A: np.array\n",
    "        Matriz de floats\n",
    "\n",
    "    Devuelve:\n",
    "    ---------\n",
    "    \n",
    "    L, U: np.array\n",
    "        Descomposición LU de A\n",
    "        \n",
    "\n",
    "    \"\"\"    \n",
    "    if not tiene_lu(A):\n",
    "        raise ValueError(\"La Matriz no tiene descomposición LU\")\n",
    "    \n",
    "    current_matrix = np.matrix(A)\n",
    "    L = np.zeros(A.shape)\n",
    "    U = np.zeros(A.shape)\n",
    "    \n",
    "    n = A.shape[0]\n",
    "  \n",
    "    for i in range(0,n):\n",
    "      L.itemset(i,i,1.)\n",
    "      U[i,i:] = current_matrix[i,i:]\n",
    "      L[i+1:,i] = np.reshape (current_matrix[i+1:,i]/U[i,i], (-1)) \n",
    "      vectorColumnaL = np.reshape(L[i+1:,i], (-1,1))\n",
    "      vectorFilaU = np.reshape(U[i,i+1:], (1,-1))\n",
    "      aux = vectorColumnaL @ vectorFilaU\n",
    "      current_matrix[i+1:, i+1:] = current_matrix[i+1: , i+1:] - aux\n",
    "      pass\n",
    "    return L, U    "
   ]
  },
  {
   "cell_type": "code",
   "execution_count": 35,
   "metadata": {
    "colab": {
     "base_uri": "https://localhost:8080/",
     "height": 503
    },
    "colab_type": "code",
    "id": "-qolB33t503Q",
    "outputId": "cb4ee6d5-5bc3-4458-f9d6-6370b741b5a0"
   },
   "outputs": [
    {
     "name": "stdout",
     "output_type": "stream",
     "text": [
      "Corriendo testear_con_multiplo_identidad ... OK\n",
      "Corriendo testear_con_otra_matriz ... OK\n",
      "Corriendo testear_con_otra_matriz2 ... OK\n",
      "Todos los tests pasaron correctamente\n"
     ]
    }
   ],
   "source": [
    "tests = []\n",
    "\n",
    "\n",
    "@mntest\n",
    "def testear_con_multiplo_identidad():\n",
    "    A = 3 * np.identity(3)\n",
    "    \n",
    "    L, U = lu_en_bloques(A)\n",
    "    \n",
    "    assert(np.allclose(L, np.eye(3)))\n",
    "    assert(np.allclose(U, 3*np.eye(3)))\n",
    "    \n",
    "    \n",
    "\n",
    "@mntest\n",
    "def testear_con_otra_matriz():\n",
    "    L = np.array([\n",
    "        [1, 0, 0],\n",
    "        [1, 1, 0],\n",
    "        [1, 1, 1],\n",
    "    ],float)\n",
    "\n",
    "    U = np.array([\n",
    "        [1, 1, 1],\n",
    "        [0, 2, 2],\n",
    "        [0, 0, 3],\n",
    "    ],float)\n",
    "\n",
    "    A = L @ U\n",
    "   \n",
    "    \n",
    "    L1, U1 = lu_en_bloques(A)\n",
    "    assert(np.allclose(L1, L))\n",
    "    assert(np.allclose(U1, U))\n",
    "\n",
    "@mntest\n",
    "def testear_con_otra_matriz2():\n",
    "    A = np.array([\n",
    "        [8, 2, 0],\n",
    "        [4, 9, 4],\n",
    "        [6, 7, 9],\n",
    "    ],float)\n",
    "\n",
    "\n",
    "    \n",
    "    L1, U1 = lu_en_bloques(A)\n",
    "    assert(np.allclose(L1@U1, A))\n",
    "\n",
    "    \n",
    "\n",
    "correr_tests()\n"
   ]
  },
  {
   "cell_type": "markdown",
   "metadata": {
    "colab_type": "text",
    "id": "TFXqTsGp7LRo"
   },
   "source": [
    "## Ejercicio 3\n",
    "\n",
    "Enunciar un método basado en vectores aleatorios para mostrar que una matriz no es definida positiva o para ganar más confianza en que sí lo es. Completar la función `tiene_sdp_vectores_aleatorios`\n",
    "\n",
    "Tratar de realizar una implementación sin for, ni while ¿Puede pensar algún ejemplo donde fallaría este método?\n",
    "\n",
    "**Tip**: Usar las funciones `np.random.randn` con los tamaños. Las funciones `np.array.diagonal, np.array.any` pueden ser de ayuda."
   ]
  },
  {
   "cell_type": "code",
   "execution_count": 36,
   "metadata": {
    "colab": {},
    "colab_type": "code",
    "id": "nAt6JXnB7dhQ"
   },
   "outputs": [],
   "source": [
    "def es_simetrica(A):\n",
    "    return np.allclose(A, A.T, eps)\n",
    "       \n",
    "\n",
    "def tiene_sdp_vectores_aleatorios(A, n):\n",
    "    \"\"\"\n",
    "    Chequea que la matriz sea SDP usando método probabilístico de vectores aleatorios\n",
    "    \n",
    "    Argumentos:\n",
    "    ----------\n",
    "    \n",
    "    A: np.array\n",
    "        Matriz a verificar su condición de SDP\n",
    "       \n",
    "    n: int\n",
    "        Cantidad de vectores a \n",
    "    \n",
    "    Devuelve:\n",
    "    ---------\n",
    "    \n",
    "    res: bool\n",
    "        True si no encontró si A es SDP bajo este método probabilístico\n",
    "    \"\"\"\n",
    "    if not es_simetrica(A):\n",
    "        return False\n",
    "    \n",
    "    array = np.random.randn(n,A.shape[0])\n",
    "    \n",
    "    for i in range(0,n):\n",
    "      x = array[i]\n",
    "      xt = array[i]\n",
    "      \n",
    "      x=np.reshape(x, (A.shape[0],1))\n",
    "      xt=np.reshape(xt, (1,A.shape[0]))\n",
    "      \n",
    "      if((xt@(A@x)) <= 0):\n",
    "        return False\n",
    "    \n",
    "    return True\n",
    "    \n",
    "   \n",
    "    \"\"\"\n",
    "    Completar código acá\n",
    "    \"\"\" "
   ]
  },
  {
   "cell_type": "code",
   "execution_count": 37,
   "metadata": {
    "colab": {
     "base_uri": "https://localhost:8080/",
     "height": 86
    },
    "colab_type": "code",
    "id": "s922CcxI7q_A",
    "outputId": "a1c8bc87-ff6f-4b91-91ff-49083929d220"
   },
   "outputs": [
    {
     "name": "stdout",
     "output_type": "stream",
     "text": [
      "Corriendo testear_con_identidad ... OK\n",
      "Corriendo testear_con_matriz_no_sdp ... OK\n",
      "Corriendo testear_con_otra_matriz_no_sdp ... OK\n",
      "Todos los tests pasaron correctamente\n"
     ]
    }
   ],
   "source": [
    "tests = []\n",
    "\n",
    "\n",
    "@mntest\n",
    "def testear_con_identidad():\n",
    "    A = np.eye(3)\n",
    "    assert(tiene_sdp_vectores_aleatorios(A, 10000))\n",
    "    \n",
    "    \n",
    "\n",
    "@mntest\n",
    "def testear_con_matriz_no_sdp():\n",
    "    A = np.array([\n",
    "        [1, 0, 0],\n",
    "        [0, -1, 0],\n",
    "        [0, 0, 1],\n",
    "    ])\n",
    "    \n",
    "    assert(not tiene_sdp_vectores_aleatorios(A, 10000))\n",
    "    \n",
    "    \n",
    "@mntest\n",
    "def testear_con_otra_matriz_no_sdp():\n",
    "    A = np.array([\n",
    "        [1, 0, 0],\n",
    "        [0, 1, 2],\n",
    "        [0, 2, 1],\n",
    "    ])\n",
    "    \n",
    "    assert(not tiene_sdp_vectores_aleatorios(A, 10000))\n",
    "    \n",
    "    \n",
    "\n",
    "correr_tests()\n"
   ]
  },
  {
   "cell_type": "markdown",
   "metadata": {
    "colab_type": "text",
    "id": "c2v1PfY67spT"
   },
   "source": [
    "## Ejercicio número 4\n",
    "\n",
    "Completar la función `chol_from_lu` para que tome una matriz A y devuelva la matriz correspondiente a su factorización de Cholesky. En este caso se comienza teniendo la factorización LU de A y se quiere generar la factorización de Cholesky.\n",
    "\n",
    "En caso de que la matriz no tenga factorización de Cholesky, se debe tirar una excepción `ValueError`\n",
    "    \n",
    "**Hint**: considerar la función `np.diag` y `np.sqrt`\n"
   ]
  },
  {
   "cell_type": "code",
   "execution_count": 38,
   "metadata": {
    "colab": {},
    "colab_type": "code",
    "id": "Jc8qY6xH7v_m"
   },
   "outputs": [],
   "source": [
    "def chol_from_lu(A):\n",
    "    \"\"\"\n",
    "    Devuelve la L de Cholesky a través de la factorización LU de la matriz A\n",
    "    \n",
    "    En caso de que no tenga LU o que no tenga Cholesky, lanza ValueError\n",
    "    \n",
    "    Argumentos:\n",
    "    ----------\n",
    "    \n",
    "    A: np.array\n",
    "        Matriz a factorizar\n",
    "    \n",
    "    Devuelve:\n",
    "    ---------\n",
    "    \n",
    "    L: np.array\n",
    "        Factorización de Cholesky de A\n",
    "    \"\"\"\n",
    "    if (not es_simetrica(A)):\n",
    "        raise ValueError(\"Matriz no simétrica\")\n",
    "    \n",
    "    \"\"\"\n",
    "    Completar acá\n",
    "    \"\"\"\n",
    "    \n",
    "    L, U = lu_en_bloques(A)\n",
    "    D = np.diag(U)\n",
    "    n = A.shape[0]\n",
    "    for i in range(0,n):\n",
    "        for j in range(0,i+1):\n",
    "            if(D.item(j)<0):\n",
    "                raise ValueError(\"No existe cholesky\")\n",
    "            L.itemset(i,j, L.item(i,j)*np.sqrt(D.item(j)))\n",
    "    return L\n",
    "   "
   ]
  },
  {
   "cell_type": "code",
   "execution_count": 39,
   "metadata": {
    "colab": {
     "base_uri": "https://localhost:8080/",
     "height": 104
    },
    "colab_type": "code",
    "id": "DBDOmFR28G0y",
    "outputId": "b4a51cef-5143-4d58-ea01-8398813f1801"
   },
   "outputs": [
    {
     "name": "stdout",
     "output_type": "stream",
     "text": [
      "Corriendo testear_con_identidad ... OK\n",
      "Corriendo testear_con_multiplo_identidad ... OK\n",
      "Corriendo testear_con_matriz_no_sdp ... OK\n",
      "Corriendo testear_con_matriz ... OK\n",
      "Todos los tests pasaron correctamente\n"
     ]
    }
   ],
   "source": [
    "tests = []\n",
    "\n",
    "\n",
    "@mntest\n",
    "def testear_con_identidad():\n",
    "    A = np.eye(3)\n",
    "    L = chol_from_lu(A)\n",
    "    \n",
    "    # Cholesky es la identidad también :-)\n",
    "    assert(np.allclose(A, L))\n",
    "    \n",
    "\n",
    "@mntest\n",
    "def testear_con_multiplo_identidad():\n",
    "    A = 4 * np.eye(3)\n",
    "    L = chol_from_lu(A)\n",
    "    \n",
    "    # Cholesky es la identidad también :-)\n",
    "    assert(np.allclose(L, 2* np.eye(3)))\n",
    "    \n",
    "@mntest\n",
    "def testear_con_matriz_no_sdp():\n",
    "    A = np.array([\n",
    "        [1, 0, 0],\n",
    "        [0, -1, 0],\n",
    "        [0, 0, 2]\n",
    "    ])\n",
    "    try:\n",
    "        L = chol_from_lu(A)\n",
    "        raise AssertionError(\"Tiene que lanzar excepción\")\n",
    "    except ValueError as e:\n",
    "        pass\n",
    "\n",
    "@mntest\n",
    "def testear_con_matriz():\n",
    "    L1 = np.array([\n",
    "        [1, 0, 0],\n",
    "        [2, 2, 0],\n",
    "        [4, 4, 4]\n",
    "    ])\n",
    "    \n",
    "    A = L1 @ L1.T\n",
    "    L = chol_from_lu(A)\n",
    "    assert(np.allclose(L, L1))\n",
    "\n",
    "correr_tests()\n"
   ]
  },
  {
   "cell_type": "markdown",
   "metadata": {
    "colab_type": "text",
    "id": "TJWNkEgs8HKX"
   },
   "source": [
    "## Ejercicio 5\n",
    "\n",
    "Completar la función `chol_en_bloques` para que tome una matriz A y devuelva la matriz L correspondiente a su factorización de Cholesky.\n",
    "    "
   ]
  },
  {
   "cell_type": "code",
   "execution_count": 40,
   "metadata": {
    "colab": {},
    "colab_type": "code",
    "id": "xhJb694V8LAv"
   },
   "outputs": [],
   "source": [
    "\n",
    "def chol_en_bloques(A):\n",
    "    \"\"\"\n",
    "    Devuelve la L de Cholesky a través del algoritmo iterativo por bloques\n",
    "    \n",
    "    En caso de que no tenga LU o que no tenga Cholesky, lanza ValueError\n",
    "    \n",
    "    Argumentos:\n",
    "    ----------\n",
    "    \n",
    "    A: np.array\n",
    "        Matriz a factorizar\n",
    "    \n",
    "    Devuelve:\n",
    "    ---------\n",
    "    \n",
    "    L: np.array\n",
    "        Factorización de Cholesky de A\n",
    "    \"\"\"\n",
    "    if not es_simetrica(A):\n",
    "        raise ValueError(\"Matriz no simétrica\")\n",
    "\n",
    "    n = A.shape[0]\n",
    "    current_matrix = np.matrix(A)\n",
    "    # Inicializo L con ceros\n",
    "    L = np.zeros((n,n))\n",
    "    # Calculo de sub-bloques de L.\n",
    "    \n",
    "    for i in range(0,n):\n",
    "        if(current_matrix[i,i] < 0):\n",
    "            raise ValueError(\"No tiene Cholesky\")\n",
    "        \n",
    "        L.itemset(i,i,np.sqrt(current_matrix[i,i]))\n",
    "        L[i+1: ,i] = np.reshape(current_matrix[i+1: ,i]/L[i,i], (-1))\n",
    "        vectorColumnaL = np.reshape(L[i+1:,i], (-1,1))\n",
    "        vectorFilaL = np.reshape(L[i+1:,i], (1,-1))\n",
    "        aux = vectorColumnaL @ vectorFilaL\n",
    "        current_matrix[i+1:, i+1:] = current_matrix[i+1: , i+1:] - aux\n",
    "        # Calculo todos los subbloques de L\n",
    "        # COMPLETAR\n",
    "        pass\n",
    "    return L"
   ]
  },
  {
   "cell_type": "code",
   "execution_count": 41,
   "metadata": {
    "colab": {
     "base_uri": "https://localhost:8080/",
     "height": 104
    },
    "colab_type": "code",
    "id": "8LP1WmNb8_1c",
    "outputId": "f323e133-81bc-4f60-b4e2-fcee4184e6f3"
   },
   "outputs": [
    {
     "name": "stdout",
     "output_type": "stream",
     "text": [
      "Corriendo matriz_diagonal_positiva ... OK\n",
      "Corriendo matriz_no_simetrica ... OK\n",
      "Corriendo matriz_no_sdp ... OK\n",
      "Corriendo matriz_copada ... OK\n",
      "Todos los tests pasaron correctamente\n"
     ]
    }
   ],
   "source": [
    "\n",
    "tests = []\n",
    "\n",
    "@mntest\n",
    "def matriz_diagonal_positiva():\n",
    "    A = np.array([\n",
    "          [4.0,.0],\n",
    "          [.0,9.0]\n",
    "    ])\n",
    "    L = np.array([\n",
    "          [2.0,0.0],\n",
    "          [.0,3.0]\n",
    "    ])\n",
    "    res = chol_en_bloques(A)\n",
    "    assert(np.allclose(res,L))\n",
    "    \n",
    "    \n",
    "\n",
    "@mntest\n",
    "def matriz_no_simetrica():\n",
    "    A = np.array([\n",
    "          [0.066076,.181880],\n",
    "          [1.181880,.624953]\n",
    "    ])\n",
    "\n",
    "    try:\n",
    "        L = chol_en_bloques(A)\n",
    "        raise AssertionError(\"Tiene que lanzar excepción\")\n",
    "    except ValueError as e:\n",
    "        pass\n",
    "\n",
    "@mntest\n",
    "def matriz_no_sdp():\n",
    "    A = np.array([\n",
    "          [-0.066076,   0.181880],\n",
    "          [ 0.181880,   0.624953]\n",
    "    ])\n",
    "\n",
    "    try:\n",
    "        L = chol_en_bloques(A)\n",
    "        raise AssertionError(\"Tiene que lanzar excepción\")\n",
    "    except ValueError as e:\n",
    "        pass\n",
    "\n",
    "@mntest\n",
    "def matriz_copada():\n",
    "       \n",
    "    L_1 =  np.array([\n",
    "        [5.99246,   .0,  .0,   .0,   .0],\n",
    "        [0.45174,   5.02065,   .0,   .0,   .0],\n",
    "        [0.50921,   0.40611,   5.25767,   .0,   .0],\n",
    "        [0.45632,   0.52172,   0.78430,   5.98219,   .0],\n",
    "        [0.41578,   0.11483,   0.24938,   0.45188,   5.28701]\n",
    "    ])\n",
    "\n",
    "    A = L_1@L_1.T\n",
    "    res = chol_en_bloques(A)\n",
    "    assert(np.allclose(res,L_1))\n",
    "\n",
    "   \n",
    "\n",
    "  \n",
    "correr_tests()"
   ]
  },
  {
   "cell_type": "markdown",
   "metadata": {
    "colab_type": "text",
    "id": "-Bf-J9pV9CcZ"
   },
   "source": [
    "## Ejercicio 6\n",
    "\n",
    "Completar la función `es_ortogonal`para determinar si una matriz es ortogonal o no. \n",
    "\n",
    "En caso de serlo, explicar cómo se podría devolver un conjunto ortonormal de vectores a partir de la matriz.\n",
    "\n",
    "A su vez, completar los tests con matrices de Givens y Householder. Testear que son ortogonales"
   ]
  },
  {
   "cell_type": "code",
   "execution_count": 42,
   "metadata": {
    "colab": {},
    "colab_type": "code",
    "id": "-u4ixhUF9Ypt"
   },
   "outputs": [],
   "source": [
    "def es_ortogonal(A):\n",
    "    \"\"\"\n",
    "    Devuelve True si A es ortogonal, False en otro caso\n",
    "    \n",
    "    \n",
    "    Argumentos:\n",
    "    ----------\n",
    "    \n",
    "    A: np.array\n",
    "        \n",
    "    Devuelve:\n",
    "    ---------\n",
    "    \n",
    "    res: bool\n",
    "        True si A ortogonal, False en otro caso\n",
    "    \"\"\"\n",
    "    I = np.identity(A.shape[0])\n",
    "    \n",
    "    return np.allclose(I,A@A.T)\n",
    "    \n",
    "    pass"
   ]
  },
  {
   "cell_type": "code",
   "execution_count": 43,
   "metadata": {
    "colab": {
     "base_uri": "https://localhost:8080/",
     "height": 86
    },
    "colab_type": "code",
    "id": "H_s6UWHQ9nJT",
    "outputId": "ecf8db8b-82b5-48f9-baf4-3244513196a3"
   },
   "outputs": [
    {
     "name": "stdout",
     "output_type": "stream",
     "text": [
      "Corriendo probar_con_identidad ... OK\n",
      "Corriendo probar_con_givens ... OK\n",
      "Corriendo probar_con_householder ... OK\n",
      "Todos los tests pasaron correctamente\n"
     ]
    }
   ],
   "source": [
    "from math import cos, sin\n",
    "tests = []\n",
    "\n",
    "@mntest\n",
    "def probar_con_identidad():\n",
    "    A = np.eye(3)\n",
    "    \n",
    "    assert(es_ortogonal(A))\n",
    "    \n",
    "@mntest\n",
    "def probar_con_givens():\n",
    "    angle = math.pi/4\n",
    "    \n",
    "    \n",
    "    A = np.array([[math.cos(angle),math.sin(angle)*-1] ,[math.cos(angle) ,math.sin(angle)]])\n",
    "    \n",
    "    assert(es_ortogonal(A))\n",
    "\n",
    "@mntest\n",
    "def probar_con_householder():\n",
    "    v = np.array([[1/math.sqrt(3.),1/math.sqrt(3.),1/math.sqrt(3.)]])\n",
    "    vt = np.reshape(v,(1,3))\n",
    "    v = np.reshape(v,(3,1))\n",
    "    A = np.identity(v.shape[0]) - 2*(v@vt)\n",
    "    assert(es_ortogonal(A))\n",
    "\n",
    "    \n",
    "correr_tests()"
   ]
  },
  {
   "cell_type": "code",
   "execution_count": 0,
   "metadata": {
    "colab": {},
    "colab_type": "code",
    "id": "Rti-8V5g5Woq"
   },
   "outputs": [],
   "source": []
  }
 ],
 "metadata": {
  "colab": {
   "collapsed_sections": [],
   "include_colab_link": true,
   "name": "Copy of taller-1-mn2019-1c.ipynb",
   "provenance": [],
   "version": "0.3.2"
  },
  "kernelspec": {
   "display_name": "Python 3",
   "language": "python",
   "name": "python3"
  },
  "language_info": {
   "codemirror_mode": {
    "name": "ipython",
    "version": 3
   },
   "file_extension": ".py",
   "mimetype": "text/x-python",
   "name": "python",
   "nbconvert_exporter": "python",
   "pygments_lexer": "ipython3",
   "version": "3.7.3"
  }
 },
 "nbformat": 4,
 "nbformat_minor": 1
}
