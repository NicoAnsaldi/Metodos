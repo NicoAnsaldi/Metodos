{
  "nbformat": 4,
  "nbformat_minor": 0,
  "metadata": {
    "colab": {
      "name": "Copy of Taller2_Alu.ipynb",
      "version": "0.3.2",
      "provenance": [],
      "collapsed_sections": []
    },
    "language_info": {
      "codemirror_mode": {
        "name": "ipython",
        "version": 3
      },
      "file_extension": ".py",
      "mimetype": "text/x-python",
      "name": "python",
      "nbconvert_exporter": "python",
      "pygments_lexer": "ipython3",
      "version": "3.7.3"
    },
    "kernelspec": {
      "display_name": "Python 3",
      "language": "python",
      "name": "python3"
    }
  },
  "cells": [
    {
      "cell_type": "markdown",
      "metadata": {
        "id": "FY8qfdHHuplU",
        "colab_type": "text"
      },
      "source": [
        "Taller 2\n",
        "======\n",
        "\n",
        "El objetivo del taller es ganar un entendimiento más profundo de los temas que entran en el segundo parcial.\n",
        "Por tal motivo, se deben resolver los siguientes ejercicios y responder las preguntas justificando adecuadamente.\n"
      ]
    },
    {
      "cell_type": "markdown",
      "metadata": {
        "id": "jjycp85MuplY",
        "colab_type": "text"
      },
      "source": [
        "## Ejercicio 1\n",
        "Dada la siguiente matriz\n",
        "$$\n",
        "A =\n",
        "\\begin{pmatrix}\n",
        "\t1 & \\sqrt{3} & 0 \\\\\n",
        "\t\\sqrt{3} & 4 & \\sqrt{3}/2 \\\\\n",
        "\t0 & \\sqrt{3}/2 & 7/4\n",
        "\\end{pmatrix}\n",
        "$$\n",
        "\n",
        "Hallar $A = U \\Sigma V^t$ la descomposición en valores singulares de $A$ utilizando únicamente la función `eig` de Numpy para calcular los autovalores y autovectores necesarios. Para lo anterior, considerar alguna propiedad de la matriz que pueda resultar de utilidad para simplificar los cálculos y justificar.\n",
        "\n"
      ]
    },
    {
      "cell_type": "code",
      "metadata": {
        "id": "0APZH2xVuplb",
        "colab_type": "code",
        "colab": {}
      },
      "source": [
        "import numpy as np\n",
        "from numpy.linalg import eig\n",
        "import matplotlib.pyplot as plt"
      ],
      "execution_count": 0,
      "outputs": []
    },
    {
      "cell_type": "code",
      "metadata": {
        "id": "qf8Qc1-yuplj",
        "colab_type": "code",
        "colab": {
          "base_uri": "https://localhost:8080/",
          "height": 34
        },
        "outputId": "e1f1ffea-363c-4851-ece0-d3b1d6aed570"
      },
      "source": [
        "A = np.array([[1,          np.sqrt(3),   0           ],\n",
        "              [np.sqrt(3), 4,            np.sqrt(3)/2],\n",
        "              [0,          np.sqrt(3)/2, 7/4         ]])\n",
        "\n",
        "\n",
        "\n",
        "S,U = eig(A) #autovalores\n",
        "#como A es simetrica, A@A.transpose() = A**2 entonces los autovectores de norma de A son los mismos que A@AT\n",
        "# A*At = USVt * (USVt)t => (A simetrica) A**2 = (USVt)**2 => A = USVt\n",
        "#U = A*At, V = At*A => U = V por A simetrica\n",
        "\n",
        "\n",
        "D = np.asmatrix(np.diag(S))\n",
        "np.allclose(U@D@U.transpose(), A)"
      ],
      "execution_count": 141,
      "outputs": [
        {
          "output_type": "execute_result",
          "data": {
            "text/plain": [
              "True"
            ]
          },
          "metadata": {
            "tags": []
          },
          "execution_count": 141
        }
      ]
    },
    {
      "cell_type": "markdown",
      "metadata": {
        "id": "8qqDxOXnuplu",
        "colab_type": "text"
      },
      "source": [
        "## Ejercicio 2\n",
        "\n",
        "\n",
        "Dado el siguiente sistema lineal sobredeterminado:\n",
        "\n",
        "$$\n",
        "A x = b \\\\\n",
        "\\begin{pmatrix}\n",
        "1  & 0  & 0 \\\\\n",
        "0  & 1  & 0 \\\\\n",
        "0  & 0  & 1 \\\\\n",
        "-1 & 1  & 0 \\\\\n",
        "0  & -1 & 0 \\\\\n",
        "-1 & 0  & 1\n",
        "\\end{pmatrix}\n",
        "%\n",
        "\\begin{pmatrix}\n",
        "x_a \\\\\n",
        "x_b \\\\\n",
        "x_c\n",
        "\\end{pmatrix}\n",
        "=\n",
        "\\begin{pmatrix}\n",
        "1 \\\\ \n",
        "2 \\\\ \n",
        "3 \\\\\n",
        "1 \\\\\n",
        "2 \\\\\n",
        "1\n",
        "\\end{pmatrix}\n",
        "$$\n",
        "\n",
        "- Hallar $x^*$ mediante cuadrados mínimos (utilizando ecuaciones normales). ¿Bajo que condiciones esta solución es única?\n",
        "\n",
        "- Probar que si $x^*$, solución de cuadrados mínimos,  verifica $r = b-Ax^*$ , es ortogonal  a $Im(A)$. ¿A qué subespacio\n",
        "pertenece el residuo?\n",
        "\n",
        "- Dar una interpretación geométrica de la solución de cuadrados mínimos lineales para este ejemplo.\n",
        "\n"
      ]
    },
    {
      "cell_type": "code",
      "metadata": {
        "id": "bxfzqxO6uplx",
        "colab_type": "code",
        "colab": {
          "base_uri": "https://localhost:8080/",
          "height": 34
        },
        "outputId": "8763910b-ba5b-48b8-c429-e40b844d46d8"
      },
      "source": [
        "eps = 1e10-10\n",
        "A = np.array([[1, 0, 0],\n",
        "              [0, 1, 0],\n",
        "              [0, 0, 1],\n",
        "              [-1,1, 0],\n",
        "              [0,-1, 0],\n",
        "              [-1,0, 1]])\n",
        "\n",
        "b = np.array([1, 2, 3, 1, 2, 1])\n",
        "\n",
        "#At.A.x = At.b\n",
        "AT = A.transpose()\n",
        "x = np.linalg.solve(AT@A,AT@b)\n",
        "#si las columnas de AtA son li, la solucion es unica, porque sino son ld, y hay mas variables que ecuaciones.\n",
        "\n",
        "r = b- A@x\n",
        "#r pertenece al subespacio ortogonal a la imagen de A, o en el nucleo de A(ortogonal)\n",
        "\n",
        "C = r.transpose()@A\n",
        "print (np.linalg.norm(C,1) <= eps)"
      ],
      "execution_count": 40,
      "outputs": [
        {
          "output_type": "stream",
          "text": [
            "True\n"
          ],
          "name": "stdout"
        }
      ]
    },
    {
      "cell_type": "markdown",
      "metadata": {
        "id": "dP8O8-I4upl4",
        "colab_type": "text"
      },
      "source": [
        "## Ejercicio 3\n",
        "\n",
        "- Completar los métodos de Jacobi y Gauss-Seidel. Tener en cuenta que las funciones también deben devolver el vector de errores que resulta de comparar la solución aproximada de una iteración contra una solución $x\\_direct$.\n",
        "-Probar los métodos con la matriz A (definida en el código), graficar y  analizar el error de la solución\n",
        "\n"
      ]
    },
    {
      "cell_type": "code",
      "metadata": {
        "id": "C8qLBXNRupl6",
        "colab_type": "code",
        "colab": {}
      },
      "source": [
        "def jacobi(A,b,reps,x_ini,x_direct):\n",
        "    # Matrices para los metodos iterativo\n",
        "    \n",
        "    D = np.diag(np.diag(A))\n",
        "    L = (-1)*(np.tril(A) - D)\n",
        "    U = (-1)*(np.triu(A) - D)\n",
        "    \n",
        "    T = np.linalg.inv(D)@(L+U)\n",
        "    c = np.linalg.inv(D)@b\n",
        "    c = np.reshape(c, (-1,1))\n",
        "    \n",
        "    B,z= eig(T)\n",
        "    print((np.abs(B)).tolist())\n",
        "    \n",
        "    xi = (T@x_ini)+c\n",
        "    error = []\n",
        "    for i in range(reps):\n",
        "        xi = (T@xi) + c\n",
        "        error.append(np.linalg.norm(xi - x_direct))\n",
        "    return xi, error\n",
        "\n"
      ],
      "execution_count": 0,
      "outputs": []
    },
    {
      "cell_type": "code",
      "metadata": {
        "id": "uIRVOFXYupl-",
        "colab_type": "code",
        "colab": {}
      },
      "source": [
        "def gauss_seidel(A,b,reps,x_ini,x_direct):\n",
        "    # Matrices para los metodos iterativos\n",
        "    \n",
        "    D = np.diag(np.diag(A))\n",
        "    L = (-1)*(np.tril(A) - D)\n",
        "    U = (-1)*(np.triu(A) - D)\n",
        "    \n",
        "    E = D-L\n",
        "    T = np.linalg.inv(E)@U\n",
        "    c = np.linalg.inv(E)@b\n",
        "    c = np.reshape(c, (-1,1))\n",
        "    \n",
        "    B,z = eig(T)\n",
        "    print((np.abs(B)).tolist())\n",
        "    \n",
        "    xi = (T@x_ini) + c\n",
        "    \n",
        "    error = []\n",
        "    for i in range(reps):\n",
        "        xi = T@xi + c\n",
        "        error.append(np.linalg.norm(xi - x_direct))\n",
        "    return xi, error\n"
      ],
      "execution_count": 0,
      "outputs": []
    },
    {
      "cell_type": "code",
      "metadata": {
        "id": "3YeVoXRnupmE",
        "colab_type": "code",
        "colab": {
          "base_uri": "https://localhost:8080/",
          "height": 434
        },
        "outputId": "f409a842-d3d6-49ac-aad6-baa446a0e0e2"
      },
      "source": [
        "#Pruebo con una matriz edd, ambos deberían converger.\n",
        "A = np.array([[8,np.sqrt(2),1/3],\n",
        "              [np.sqrt(3),10, 5.5],\n",
        "              [0, 1 , 7/6]])\n",
        "b = np.array([5,3.5,2])\n",
        "\n",
        "x_ini = np.array([0,0,0])\n",
        "x_ini = np.reshape(x_ini, (-1,1))\n",
        "x = np.linalg.solve(A,b)\n",
        "x = np.reshape(x, (-1,1))\n",
        "x_jacobi, error = jacobi(A,b,100,x_ini,x)\n",
        "\n",
        "print(\"Jacobi:\")\n",
        "print(\"Estimacion:\", x_jacobi)\n",
        "print(\"Respuesta correcta\", x)\n",
        "\n",
        "plt.plot(error)\n",
        "plt.title(\"Error de Jacobi\")\n",
        "plt.xlabel(\"Iteracion\")\n",
        "plt.ylabel(\"error\")\n",
        "plt.yscale('log')\n",
        "plt.show()\n",
        "\n",
        "\n"
      ],
      "execution_count": 185,
      "outputs": [
        {
          "output_type": "stream",
          "text": [
            "[-0.7146350216679591, 0.012325072413094655, 0.7023099492548642]\n",
            "Jacobi:\n",
            "Estimacion: [[ 0.74628648]\n",
            " [-1.36616872]\n",
            " [ 2.88528748]]\n",
            "Respuesta correcta [[ 0.74628648]\n",
            " [-1.36616872]\n",
            " [ 2.88528748]]\n"
          ],
          "name": "stdout"
        },
        {
          "output_type": "display_data",
          "data": {
            "image/png": "[encoded data removed]",
            "text/plain": [
              "<Figure size 432x288 with 1 Axes>"
            ]
          },
          "metadata": {
            "tags": []
          }
        }
      ]
    },
    {
      "cell_type": "code",
      "metadata": {
        "id": "eXS0B8tyupmN",
        "colab_type": "code",
        "colab": {
          "base_uri": "https://localhost:8080/",
          "height": 434
        },
        "outputId": "ba14b95b-d170-44d3-fbfb-d72948c4a985"
      },
      "source": [
        "#Idem para gauss-seidel\n",
        "x_gs, error = gauss_seidel(A,b,100,x_ini,x)\n",
        "\n",
        "print(\"Gauss-Seidel:\")\n",
        "print(\"Estimacion:\", x_gs)\n",
        "print(\"Respuesta correcta\", x)\n",
        "\n",
        "plt.plot(error)\n",
        "plt.title(\"Error de Gauss-Seidel\")\n",
        "plt.xlabel(\"Iteracion\")\n",
        "plt.ylabel(\"error\")\n",
        "plt.yscale('log')\n",
        "plt.show()\n",
        "\n"
      ],
      "execution_count": 186,
      "outputs": [
        {
          "output_type": "stream",
          "text": [
            "[0.0, 5.551115123125783e-17, 0.49586129747204377]\n",
            "Gauss-Seidel:\n",
            "Estimacion: [[ 0.74628648]\n",
            " [-1.36616872]\n",
            " [ 2.88528748]]\n",
            "Respuesta correcta [[ 0.74628648]\n",
            " [-1.36616872]\n",
            " [ 2.88528748]]\n"
          ],
          "name": "stdout"
        },
        {
          "output_type": "display_data",
          "data": {
            "image/png": "[encoded data removed]",
            "text/plain": [
              "<Figure size 432x288 with 1 Axes>"
            ]
          },
          "metadata": {
            "tags": []
          }
        }
      ]
    },
    {
      "cell_type": "markdown",
      "metadata": {
        "id": "pOUNT3qlupme",
        "colab_type": "text"
      },
      "source": [
        "## Ejercicio 4\n",
        "\n",
        "\n",
        "Considerar los siguientes datos que fueron generados a partir de un polinomio de grado 2 con ruido. Los mismos serán los datos a ajustar utilizando cuadrados mínimos lineales."
      ]
    },
    {
      "cell_type": "code",
      "metadata": {
        "id": "YRC4fypDupmi",
        "colab_type": "code",
        "outputId": "707432c2-6d41-4d77-c5f7-c2776d5fe0a1",
        "colab": {
          "base_uri": "https://localhost:8080/",
          "height": 281
        }
      },
      "source": [
        "\n",
        "x = np.arange(1, 40, 0.1)\n",
        "y = 4 * x + 0.5 * x ** 2 + np.random.randn(*x.shape) * 20;\n",
        "\n",
        "plt.plot(x, y, '.')\n",
        "plt.title('Datos a ajustar')\n",
        "plt.show()"
      ],
      "execution_count": 214,
      "outputs": [
        {
          "output_type": "display_data",
          "data": {
            "image/png": "[encoded data removed]",
            "text/plain": [
              "<Figure size 432x288 with 1 Axes>"
            ]
          },
          "metadata": {
            "tags": []
          }
        }
      ]
    },
    {
      "cell_type": "markdown",
      "metadata": {
        "id": "43aCndrZupmr",
        "colab_type": "text"
      },
      "source": [
        "Ahora, vamos a fittear un polinomio de grado 4 a los datos anteriores (asumiendo que desconocemos el origen de los mismo). Para esto, utilizamos cuadrados mínimos, cuya solución es hallada a través de ecuaciones normales resueltas por algún  método directo"
      ]
    },
    {
      "cell_type": "code",
      "metadata": {
        "id": "PIAd3Ewvupms",
        "colab_type": "code",
        "colab": {}
      },
      "source": [
        "M = np.stack([x, x ** 2, x ** 3, x ** 4]).T\n",
        "c = y\n",
        "\n",
        "AtA = M.T @ M \n",
        "Atb = M.T @ c\n",
        "\n",
        "\n",
        "x_direct = np.linalg.solve(AtA,Atb)\n",
        "\n",
        "\n",
        "\n"
      ],
      "execution_count": 0,
      "outputs": []
    },
    {
      "cell_type": "markdown",
      "metadata": {
        "id": "LqVif0rEupmy",
        "colab_type": "text"
      },
      "source": [
        "- Estimar la solución de cuadrados mínimos utilizando los métodos iterativos del punto 3 y graficar los errores de los métodos (con respecto a la solución hallada con método directo) en función de las iteraciones.\n",
        "- Indicar si los métodos convergen o no y por qué. Justificar adecuadamente.\n",
        "\n"
      ]
    },
    {
      "cell_type": "code",
      "metadata": {
        "id": "2VI8Sgzyupm0",
        "colab_type": "code",
        "colab": {
          "base_uri": "https://localhost:8080/",
          "height": 417
        },
        "outputId": "bc11c1b7-b0e6-4dac-add6-9d0383530aa5"
      },
      "source": [
        "#Jacobi\n",
        "x_ini = np.array([0,0,0,0])\n",
        "x_ini = np.reshape(x_ini, (-1,1))\n",
        "reps = 100\n",
        "x_jacobi, error = jacobi(AtA,Atb,10,x_ini,x_direct)\n",
        "\n",
        "\n",
        "print(\"Jacobi:\")\n",
        "print(\"Estimacion:\", x_jacobi)\n",
        "print(\"Respuesta correcta\", x_direct)\n",
        "\n",
        "plt.plot(error)\n",
        "plt.title(\"Error de Jacobi\")\n",
        "plt.xlabel(\"Iteracion\")\n",
        "plt.ylabel(\"error\")\n",
        "plt.yscale('log')\n",
        "plt.show()\n",
        "\n"
      ],
      "execution_count": 189,
      "outputs": [
        {
          "output_type": "stream",
          "text": [
            "[2.8447444076667963, 0.8485421364258248, 0.9962425704868834, 0.9999597007540884]\n",
            "Jacobi:\n",
            "Estimacion: [[4.70846890e+05]\n",
            " [1.58785376e+04]\n",
            " [4.68249575e+02]\n",
            " [1.30255874e+01]]\n",
            "Respuesta correcta [ 4.46453427e+00  4.40259176e-01  2.40258064e-03 -3.29257616e-05]\n"
          ],
          "name": "stdout"
        },
        {
          "output_type": "display_data",
          "data": {
            "image/png": "[encoded data removed]",
            "text/plain": [
              "<Figure size 432x288 with 1 Axes>"
            ]
          },
          "metadata": {
            "tags": []
          }
        }
      ]
    },
    {
      "cell_type": "code",
      "metadata": {
        "id": "FIUHEqnVUQK8",
        "colab_type": "code",
        "colab": {
          "base_uri": "https://localhost:8080/",
          "height": 417
        },
        "outputId": "68bb0362-a966-4ea2-b9dd-2dfc74955a21"
      },
      "source": [
        "#gauss-seidel\n",
        "x_ini = np.array([0,0,0,0])\n",
        "x_ini = np.reshape(x_ini, (-1,1))\n",
        "reps = 100\n",
        "x_gs, error = gauss_seidel(AtA,Atb,10000,x_ini,x_direct)\n",
        "\n",
        "print(\"Gauss-Seidel:\")\n",
        "print(\"Estimacion:\", x_gs)\n",
        "print(\"Respuesta correcta\", x_direct)\n",
        "\n",
        "plt.plot(error)\n",
        "plt.title(\"Error de Gauss-Seidel\")\n",
        "plt.xlabel(\"Iteracion\")\n",
        "plt.ylabel(\"error\")\n",
        "plt.yscale('log')\n",
        "plt.show()\n"
      ],
      "execution_count": 215,
      "outputs": [
        {
          "output_type": "stream",
          "text": [
            "[0.0, 0.8255578374966274, 0.9937427156561908, 0.999919218909844]\n",
            "Gauss-Seidel:\n",
            "Estimacion: [[ 4.47214699e+00]\n",
            " [ 4.39171864e-01]\n",
            " [ 2.44855578e-03]\n",
            " [-3.35236041e-05]]\n",
            "Respuesta correcta [ 4.46453427e+00  4.40259176e-01  2.40258064e-03 -3.29257616e-05]\n"
          ],
          "name": "stdout"
        },
        {
          "output_type": "display_data",
          "data": {
            "image/png": "[encoded data removed]",
            "text/plain": [
              "<Figure size 432x288 with 1 Axes>"
            ]
          },
          "metadata": {
            "tags": []
          }
        }
      ]
    },
    {
      "cell_type": "markdown",
      "metadata": {
        "id": "ZGkgS5Udupm8",
        "colab_type": "text"
      },
      "source": [
        "- A partir de lo anterior, fittear la función estimada a los datos. Mostrar en un gráfico.\n",
        "- ¿Qué puede decir sobre los valores estimados de los coeficientes de mayor grado?\n"
      ]
    },
    {
      "cell_type": "code",
      "metadata": {
        "id": "NPYMpWQ_VVW-",
        "colab_type": "code",
        "colab": {
          "base_uri": "https://localhost:8080/",
          "height": 86
        },
        "outputId": "fa28bf11-1e73-4f32-835f-98a7743ee561"
      },
      "source": [
        "\n",
        "x_gs"
      ],
      "execution_count": 211,
      "outputs": [
        {
          "output_type": "execute_result",
          "data": {
            "text/plain": [
              "array([[ 4.47214699e+00],\n",
              "       [ 4.39171864e-01],\n",
              "       [ 2.44855578e-03],\n",
              "       [-3.35236041e-05]])"
            ]
          },
          "metadata": {
            "tags": []
          },
          "execution_count": 211
        }
      ]
    },
    {
      "cell_type": "code",
      "metadata": {
        "id": "JyirW8iKupm9",
        "colab_type": "code",
        "colab": {
          "base_uri": "https://localhost:8080/",
          "height": 330
        },
        "outputId": "d2316874-d08c-4ae2-d768-170cb00815e6"
      },
      "source": [
        "\n",
        "plt.plot(y, '.')\n",
        "coef = [ 4.47214699e+00,\n",
        "        4.39171864e-01,\n",
        "        2.44855578e-03,\n",
        "       -3.35236041e-05]# COMPLETAR con un vector de longitud 4 con los coeficientes estimados en el ítem anterior\n",
        "print(x.shape)\n",
        "print(coef)\n",
        "pred = coef[0] * x + coef[1] * x**2 + coef[2] * x**3 + coef[3]* x**4\n",
        "plt.plot(pred, 'r')\n",
        "plt.title(\"Polinomio ajustado\")\n",
        "plt.xlabel(\"x\")\n",
        "plt.ylabel(\"y\")\n",
        "plt.show()"
      ],
      "execution_count": 216,
      "outputs": [
        {
          "output_type": "stream",
          "text": [
            "(390,)\n",
            "[4.47214699, 0.439171864, 0.00244855578, -3.35236041e-05]\n"
          ],
          "name": "stdout"
        },
        {
          "output_type": "display_data",
          "data": {
            "image/png": "[encoded data removed]",
            "text/plain": [
              "<Figure size 432x288 with 1 Axes>"
            ]
          },
          "metadata": {
            "tags": []
          }
        }
      ]
    },
    {
      "cell_type": "markdown",
      "metadata": {
        "id": "l0uUXm53upnF",
        "colab_type": "text"
      },
      "source": [
        "## Evaluación y entrega\n",
        "\n",
        "- La evaluación será mediante un coloquio con los docentes durante la clase.\n",
        "- El taller se realiza en grupos. Se recomienda que sean los mismos de los TPs.\n",
        "- En caso de no asistir a clase, se debe entregar la resolución del taller por mail a `metnum.lab@gmail.com` hasta el día **Domingo 2 de Junio de 2019** justificando todas las respuestas.\n"
      ]
    },
    {
      "cell_type": "code",
      "metadata": {
        "id": "pokPDGIXEW7j",
        "colab_type": "code",
        "colab": {}
      },
      "source": [
        ""
      ],
      "execution_count": 0,
      "outputs": []
    }
  ]
}